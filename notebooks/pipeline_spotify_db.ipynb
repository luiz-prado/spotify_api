{
 "cells": [
  {
   "cell_type": "code",
   "execution_count": 5,
   "metadata": {},
   "outputs": [],
   "source": [
    "import requests\n",
    "import numpy as np\n",
    "import pandas as pd\n",
    "import psycopg2 as ps\n",
    "import datetime\n",
    "import base64\n",
    "import time\n",
    "from dotenv import load_dotenv\n",
    "import os"
   ]
  },
  {
   "cell_type": "code",
   "execution_count": 7,
   "metadata": {},
   "outputs": [],
   "source": [
    "def authentication():\n",
    "    \n",
    "    ############ CLIENT ID AND CLIENT SECRET ################\n",
    "    \n",
    "    client_id = os.getenv('SPOTIFY_CLIENT_ID')\n",
    "    client_secret = os.getenv('SPOTIFY_CLIENT_SECRET')\n",
    "    client_creds = f\"{client_id}:{client_secret}\"\n",
    "    client_creds_b64 = base64.b64encode(client_creds.encode())\n",
    "    \n",
    "    ############## API CALL PARAMETERS ######################\n",
    "    \n",
    "    auth_url = 'https://accounts.spotify.com/api/token'\n",
    "    auth_data = {\n",
    "        'grant_type': 'client_credentials'\n",
    "    }\n",
    "    auth_headers = {\n",
    "        'Authorization': f'Basic {client_creds_b64.decode()}'\n",
    "    }\n",
    "    \n",
    "    ############ API CALL ###################################\n",
    "    \n",
    "    r = requests.post(auth_url, data=auth_data, headers=auth_headers)\n",
    "    request_status = r.status_code in range(200,299)\n",
    "    \n",
    "    ########################################################\n",
    "    \n",
    "    if request_status == True:\n",
    "        auth_response = r.json()\n",
    "        now = datetime.datetime.now()\n",
    "        access_token = auth_response['access_token']\n",
    "        expires_in = auth_response['expires_in']\n",
    "        expires = now + datetime.timedelta(seconds=expires_in)\n",
    "        \n",
    "    return access_token, expires"
   ]
  },
  {
   "cell_type": "code",
   "execution_count": 8,
   "metadata": {},
   "outputs": [
    {
     "name": "stdout",
     "output_type": "stream",
     "text": [
      "BQCJeBiiXOeouZfC1LzBs8oqyKKra68k4akRFxzqvi8ELEbldXFF9RCKiRSpa82nhlbBJA3pZCEWozBFBgLnTMdpE4E7Py79Yb2_eEPTA61GGJyrWiE\n"
     ]
    }
   ],
   "source": [
    "token, expires = authentication()\n",
    "print(token)"
   ]
  }
 ],
 "metadata": {
  "kernelspec": {
   "display_name": "Python 3",
   "language": "python",
   "name": "python3"
  },
  "language_info": {
   "codemirror_mode": {
    "name": "ipython",
    "version": 3
   },
   "file_extension": ".py",
   "mimetype": "text/x-python",
   "name": "python",
   "nbconvert_exporter": "python",
   "pygments_lexer": "ipython3",
   "version": "3.10.11"
  }
 },
 "nbformat": 4,
 "nbformat_minor": 2
}
